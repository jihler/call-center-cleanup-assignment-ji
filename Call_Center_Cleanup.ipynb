{
 "cells": [
  {
   "cell_type": "markdown",
   "id": "331a1c4f",
   "metadata": {},
   "source": [
    "# Call Center Cleanup\n",
    "\n",
    "For this assignment, we will be working with call center data. You can start working on the assignment after the first lesson on Exploratory Data Analysis with pandas. Make sure to read the whole assignment before starting anything! As you code along in the Jupyter notebook, you are asked to make note of the results of your analysis. Do so by clicking on the results box and adding your notes beside each question.\n",
    "\n",
    "## Business Issue and Understanding\n",
    "\n",
    "You are working for a company that has two call centers: the North Call Center and the South Call Center. The company is looking to possibly hire five additional reps to enhance customer experience. Your task is to explore how efficient the current reps are in each branch to determine which branch would benefit from additional assistance.\n",
    "\n",
    "### How the Call Center Works\n",
    "\n",
    "Call center representatives are assigned queues. When calls are assigned to a queue, the call is assigned to the next person in line in the queue. After a call is assigned to a representative, the amount of time between assignment and the call starting is divided into busy minutes and not ready minutes. If the call is incoming and a customer is waiting on the phone for a rep, the time is split into three categories: busy minutes, not ready minutes, and incoming call wait time. Once the rep has the customer on the phone, there might be during call wait time, where the call is put on hold while the rep gets an answer for the customer.\n",
    "\n",
    "### Notes about the Dataset\n",
    "\n",
    "If you haven't worked in a call center before, these notes might help you throughout your analysis.\n",
    "\n",
    "* The call purpose is tagged for each call.\n",
    "* The time of the call is tagged in 1 hour blocks starting at 9:00 AM and ending at 5:00 PM.\n",
    "* Calls are tagged as incoming or outgoing.\n",
    "* Reps are assigned to queues. When the reps are working, they take calls in the order of their queue.\n",
    "* A call that is dropped due to technical error or missed by the center because they have reached maximum capacity is a lost call.\n",
    "* An abandoned call is when the customer hangs up because they have been waiting for too long.\n",
    "* Busy Minutes: the amount of time after a call comes in or needs to go out where the assigned rep is not available because they are busy with other customers.\n",
    "* Not Ready Minutes: the amount of time after a call comes in or needs to go out where the assigned rep is not available because they are not ready (for example, getting water).\n",
    "* Incoming Wait Time - amount of time after assigned rep is available to take the call customer waits for representative to pick up a call. This is tracked in seconds.\n",
    "* During Call Wait Time - amount of time during call that customer has to wait for representative\n",
    "\n",
    "## Getting Started\n",
    "\n",
    "You have two CSVs at your disposal, `NorthCallCenter.csv` and `SouthCallCenter.csv`. Import the appropriate libraries and create two dataframes, one called `north_df` and one called `south_df`."
   ]
  },
  {
   "cell_type": "code",
   "execution_count": 15,
   "id": "f362436b",
   "metadata": {},
   "outputs": [
    {
     "name": "stdout",
     "output_type": "stream",
     "text": [
      "North Call Center Data:\n",
      "   Unnamed: 0 Branch     Call Purpose Time Block Incoming or Outgoing Queue  \\\n",
      "0           0  North        Complaint    9:00 AM             Incoming     B   \n",
      "1           1  North    Sales Support   11:00 AM             Incoming     A   \n",
      "2           2  North    Sales Support   11:00 AM             Incoming     B   \n",
      "3           3  North    Sales Support    4:00 PM             Incoming     B   \n",
      "4           4  North  Product Support   12:00 PM             Incoming     B   \n",
      "\n",
      "  Rep ID Sale  Lost Call  Abandoned  Busy Minutes  Not Ready Minutes  \\\n",
      "0  Brent   NO          0          1             9                  2   \n",
      "1    Cam   NO          0          0            11                  1   \n",
      "2   Todd   NO          0          0             9                  3   \n",
      "3  Brent   NO          0          0            11                  2   \n",
      "4  Brent   NO          0          0             8                  2   \n",
      "\n",
      "   Incoming Wait Time  During Call Wait Time  Calls  \n",
      "0                 1.0                      4      1  \n",
      "1                 1.0                      3      1  \n",
      "2                 1.0                      3      1  \n",
      "3                 1.0                      4      1  \n",
      "4                 1.0                      4      1  \n",
      "South Call Center Data:\n",
      "   Unnamed: 0 Branch   Call Purpose Time Block Incoming or Outgoing Queue  \\\n",
      "0           0  South  Sales Support   10:00 AM             Incoming     D   \n",
      "1           1  South  Sales Support   10:00 AM             Incoming     C   \n",
      "2           2  South  Sales Support   10:00 AM             Incoming     C   \n",
      "3           3  South  Sales Support   10:00 AM             Incoming     C   \n",
      "4           4  South  Sales Support   12:00 PM             Incoming     C   \n",
      "\n",
      "  Rep ID Sale  Lost Call  Abandoned  Busy Minutes  Not Ready Minutes  \\\n",
      "0   Kate   NO          0          0             9                  1   \n",
      "1   Eric   NO          0          0             8                  2   \n",
      "2  Susan   NO          0          0            10                  2   \n",
      "3  Alice   NO          0          0            12                  1   \n",
      "4  Sandy   NO          0          0             8                  3   \n",
      "\n",
      "   Incoming Wait Time  During Call Wait Time  Calls  \n",
      "0                 1.0                      2      1  \n",
      "1                 1.0                      4      1  \n",
      "2                 1.0                      4      1  \n",
      "3                 1.0                      3      1  \n",
      "4                 1.0                      3      1  \n"
     ]
    }
   ],
   "source": [
    "# Import the appropriate libraries with aliases\n",
    "import pandas as pd\n",
    "\n",
    "# Create two new dataframes\n",
    "north_df = pd.read_csv('NorthCallCenter.csv')\n",
    "south_df = pd.read_csv('SouthCallCenter.csv')\n",
    "\n",
    "# print to check\n",
    "print(\"North Call Center Data:\")\n",
    "print(north_df.head())\n",
    "\n",
    "print(\"South Call Center Data:\")\n",
    "print(south_df.head())\n"
   ]
  },
  {
   "cell_type": "markdown",
   "id": "b4d3484b",
   "metadata": {},
   "source": [
    "## Task 1: Exploratory Data Analysis\n",
    "\n",
    "Time to do some EDA! In the process of learning more about the two datasets, answer the following questions. Use the code blocks below to begin cleaning your data. At the end of the section, record your answers."
   ]
  },
  {
   "cell_type": "markdown",
   "id": "76898991",
   "metadata": {},
   "source": [
    "#### EDA Question 1A:  How many reps are in the North branch?  "
   ]
  },
  {
   "cell_type": "code",
   "execution_count": 7,
   "id": "ce3eb5e4",
   "metadata": {},
   "outputs": [
    {
     "name": "stdout",
     "output_type": "stream",
     "text": [
      "Number of reps in the North branch: ['Brent' 'Cam' 'Todd' 'Duke' 'Joe' 'Lilly' 'Amanda' 'Andy' 'Xander']\n"
     ]
    }
   ],
   "source": [
    "# EDA Question 1A solution below:\n",
    "north_reps = north_df['Rep ID'].unique()\n",
    "print(f\"Number of reps in the North branch: {north_reps}\")\n"
   ]
  },
  {
   "cell_type": "markdown",
   "id": "2a9b34d8",
   "metadata": {},
   "source": [
    "#### EDA Question 1B:  How many reps are in the South branch?  "
   ]
  },
  {
   "cell_type": "code",
   "execution_count": 8,
   "id": "3c715bbf",
   "metadata": {},
   "outputs": [
    {
     "name": "stdout",
     "output_type": "stream",
     "text": [
      "Number of reps in the South branch: ['Kate' 'Eric' 'Susan' 'Alice' 'Sandy' 'Karl' 'Randy' 'George' 'Helga'\n",
      " 'Josh' 'Sharon']\n"
     ]
    }
   ],
   "source": [
    "# EDA Question 1B solution Below:\n",
    "south_reps = south_df['Rep ID'].unique()\n",
    "print(f\"Number of reps in the South branch: {south_reps}\")\n"
   ]
  },
  {
   "cell_type": "markdown",
   "id": "a872f045",
   "metadata": {},
   "source": [
    "#### EDA Question 2A:  What is the average busy minutes, not ready minutes, incoming wait time, and during call wait time for the North branch? "
   ]
  },
  {
   "cell_type": "code",
   "execution_count": 13,
   "id": "3759305f",
   "metadata": {},
   "outputs": [
    {
     "name": "stdout",
     "output_type": "stream",
     "text": [
      "Average times for the North branch:\n",
      "Average Busy Minutes: 9.99\n",
      "Average Not Ready Minutes: 1.91\n",
      "Average Incoming Wait Time: 3.05\n",
      "Average During Call Wait Time: 2.97\n"
     ]
    }
   ],
   "source": [
    "# EDA Question 2A solution Below:\n",
    "average_north = {\n",
    "    'Average Busy Minutes': north_df['Busy Minutes'].mean(),\n",
    "    'Average Not Ready Minutes': north_df['Not Ready Minutes'].mean(),\n",
    "    'Average Incoming Wait Time': north_df['Incoming Wait Time'].mean(),\n",
    "    'Average During Call Wait Time': north_df['During Call Wait Time'].mean()\n",
    "}\n",
    "\n",
    "print(\"Average times for the North branch:\")\n",
    "for metric, value in average_north.items():\n",
    "    print(\"{}: {:.2f}\".format(metric, value))\n"
   ]
  },
  {
   "cell_type": "markdown",
   "id": "3851cf3e",
   "metadata": {},
   "source": [
    "#### EDA Question 2B:  What is the average busy minutes, not ready minutes, incoming wait time, and during call wait time for the South branch? "
   ]
  },
  {
   "cell_type": "code",
   "execution_count": 14,
   "id": "a77ec152",
   "metadata": {},
   "outputs": [
    {
     "name": "stdout",
     "output_type": "stream",
     "text": [
      "Average times for the South branch:\n",
      "Average Busy Minutes: 10.05\n",
      "Average Not Ready Minutes: 1.91\n",
      "Average Incoming Wait Time: 3.00\n",
      "Average During Call Wait Time: 3.08\n"
     ]
    }
   ],
   "source": [
    "# EDA Question 2B solution Below:\n",
    "average_south = {\n",
    "    'Average Busy Minutes': south_df['Busy Minutes'].mean(),\n",
    "    'Average Not Ready Minutes': south_df['Not Ready Minutes'].mean(),\n",
    "    'Average Incoming Wait Time': south_df['Incoming Wait Time'].mean(),\n",
    "    'Average During Call Wait Time': south_df['During Call Wait Time'].mean()\n",
    "}\n",
    "\n",
    "print(\"Average times for the South branch:\")\n",
    "for metric, value in average_south.items():\n",
    "    print(\"{}: {:.2f}\".format(metric, value))\n"
   ]
  },
  {
   "cell_type": "markdown",
   "id": "75915553",
   "metadata": {},
   "source": [
    "#### EDA Question 3:  What is the number of calls taken for each time block(Both North and South combined)?"
   ]
  },
  {
   "cell_type": "code",
   "execution_count": 80,
   "id": "49566936",
   "metadata": {},
   "outputs": [
    {
     "name": "stdout",
     "output_type": "stream",
     "text": [
      "Number of calls taken for each time block (North and South):\n",
      "  Time Block  Number of Calls (North)  Number of Calls (South)\n",
      "0   10:00 AM                       43                       56\n",
      "1   11:00 AM                       25                       31\n",
      "2   12:00 PM                       45                       75\n",
      "3    1:00 PM                       17                       23\n",
      "4    2:00 PM                       35                       30\n",
      "5    3:00 PM                       30                       43\n",
      "6    4:00 PM                       28                       25\n",
      "7    5:00 PM                       17                       26\n",
      "8    9:00 AM                        5                        5\n",
      "Number of calls taken for each time block (North and South combined):\n",
      "  Time Block  Number of Calls\n",
      "0   10:00 AM               99\n",
      "1   11:00 AM               56\n",
      "2   12:00 PM              120\n",
      "3    1:00 PM               40\n",
      "4    2:00 PM               65\n",
      "5    3:00 PM               73\n",
      "6    4:00 PM               53\n",
      "7    5:00 PM               43\n",
      "8    9:00 AM               10\n"
     ]
    }
   ],
   "source": [
    "# EDA Question 3 solution Below:\n",
    "# groupby 'Time Block' & count number of calls for North branch\n",
    "north_calls = north_df.groupby('Time Block')['Calls'].count().reset_index()\n",
    "north_calls.columns = ['Time Block', 'Number of Calls (North)']\n",
    "\n",
    "# groupby 'Time Block' & count number of calls for South branch\n",
    "south_calls = south_df.groupby('Time Block')['Calls'].count().reset_index()\n",
    "south_calls.columns = ['Time Block', 'Number of Calls (South)']\n",
    "\n",
    "# merge the two results \n",
    "combined_calls = pd.merge(north_calls, south_calls, on='Time Block', how='outer').fillna(0)\n",
    "\n",
    "# print\n",
    "print(\"Number of calls taken for each time block (North and South):\")\n",
    "print(combined_calls)\n",
    "\n",
    "# Combine both DataFrames\n",
    "combined_df = pd.concat([north_df, south_df])\n",
    "\n",
    "# Group by 'Time Block' and count the number of calls\n",
    "calls_per_time_block = combined_df.groupby('Time Block')['Calls'].count().reset_index()\n",
    "\n",
    "# Rename the column for clarity\n",
    "calls_per_time_block.columns = ['Time Block', 'Number of Calls']\n",
    "\n",
    "# Print the results\n",
    "print(\"Number of calls taken for each time block (North and South combined):\")\n",
    "print(calls_per_time_block)\n",
    "\n"
   ]
  },
  {
   "cell_type": "markdown",
   "id": "40b1fd3f",
   "metadata": {},
   "source": [
    "##### Record your answers for the EDA section below:\n",
    "- 1a) Reps in the North Branch = 9\n",
    "- 1b) Reps in the South Branch = 11\n",
    "\n",
    "\n",
    "- 2a) North Branch, (round to the nearest hundredth):\n",
    "> - Busy Minutes = 9.99\n",
    "> - Not Ready Minutes = 1.91\n",
    "> - Incoming Wait Time = 3.05\n",
    "> - During Call Wait Time = 2.97\n",
    "- 2b) South Branch, (round to the nearest hundredth):\n",
    "> - Busy Minutes = 10.05\n",
    "> - Not Ready Minutes = 1.91\n",
    "> - Incoming Wait Time = 3.00\n",
    "> - During Call Wait Time = 3.08\n",
    "- 3) Total Calls taken for all branches per time block:\n",
    "> - 9:00AM   = 10\n",
    "> - 10:00AM  = 99\n",
    "> - 11:00AM  = 56\n",
    "> - 12:00PM  = 120\n",
    "> - 1:00PM   = 40\n",
    "> - 2:00PM   = 65\n",
    "> - 3:00PM   = 73\n",
    "> - 4:00PM   = 53\n",
    "> - 5:00PM   = 43\n",
    "\n"
   ]
  },
  {
   "cell_type": "markdown",
   "id": "366bfb19",
   "metadata": {},
   "source": [
    "## Task 2: Cleaning Your Data \n",
    "Now you need to clean up the datasets. When cleaning the datasets, you may find that there isn't dirty data to clean. That is okay! Some questions you need to answer about the data sets.\n",
    "* Add additional code blocks as needed to show how you came to your conclusions. Add comments in your code blocks to help others understand your thinking. "
   ]
  },
  {
   "cell_type": "markdown",
   "id": "c3564d69",
   "metadata": {},
   "source": [
    "#### Cleaning Question 1:  Is there any missing data and if yes explain what you would do with the missing data and why?"
   ]
  },
  {
   "cell_type": "code",
   "execution_count": 81,
   "id": "b77fb574",
   "metadata": {},
   "outputs": [
    {
     "name": "stdout",
     "output_type": "stream",
     "text": [
      "North Call Center Missing Data:\n",
      "Unnamed: 0               0\n",
      "Branch                   0\n",
      "Call Purpose             0\n",
      "Time Block               0\n",
      "Incoming or Outgoing     0\n",
      "Queue                    0\n",
      "Rep ID                   0\n",
      "Sale                     0\n",
      "Lost Call                0\n",
      "Abandoned                0\n",
      "Busy Minutes             0\n",
      "Not Ready Minutes        0\n",
      "Incoming Wait Time       0\n",
      "During Call Wait Time    0\n",
      "Calls                    0\n",
      "dtype: int64\n",
      "South Call Center Missing Data:\n",
      "Unnamed: 0               0\n",
      "Branch                   0\n",
      "Call Purpose             0\n",
      "Time Block               0\n",
      "Incoming or Outgoing     0\n",
      "Queue                    0\n",
      "Rep ID                   0\n",
      "Sale                     0\n",
      "Lost Call                0\n",
      "Abandoned                0\n",
      "Busy Minutes             0\n",
      "Not Ready Minutes        0\n",
      "Incoming Wait Time       0\n",
      "During Call Wait Time    0\n",
      "Calls                    0\n",
      "dtype: int64\n"
     ]
    },
    {
     "name": "stderr",
     "output_type": "stream",
     "text": [
      "C:\\Users\\jorda\\AppData\\Local\\Temp\\ipykernel_20816\\2202024352.py:19: FutureWarning: A value is trying to be set on a copy of a DataFrame or Series through chained assignment using an inplace method.\n",
      "The behavior will change in pandas 3.0. This inplace method will never work because the intermediate object on which we are setting values always behaves as a copy.\n",
      "\n",
      "For example, when doing 'df[col].method(value, inplace=True)', try using 'df.method({col: value}, inplace=True)' or df[col] = df[col].method(value) instead, to perform the operation inplace on the original object.\n",
      "\n",
      "\n",
      "  north_df['Incoming Wait Time'].fillna(north_median_wait_time, inplace=True)\n",
      "C:\\Users\\jorda\\AppData\\Local\\Temp\\ipykernel_20816\\2202024352.py:20: FutureWarning: A value is trying to be set on a copy of a DataFrame or Series through chained assignment using an inplace method.\n",
      "The behavior will change in pandas 3.0. This inplace method will never work because the intermediate object on which we are setting values always behaves as a copy.\n",
      "\n",
      "For example, when doing 'df[col].method(value, inplace=True)', try using 'df.method({col: value}, inplace=True)' or df[col] = df[col].method(value) instead, to perform the operation inplace on the original object.\n",
      "\n",
      "\n",
      "  south_df['Incoming Wait Time'].fillna(south_median_wait_time, inplace=True)\n"
     ]
    },
    {
     "data": {
      "text/plain": [
       "(np.int64(0), np.int64(0))"
      ]
     },
     "execution_count": 81,
     "metadata": {},
     "output_type": "execute_result"
    }
   ],
   "source": [
    "# Question 1 solution below\n",
    "# find missing values\n",
    "north_missing_data = north_df.isna().sum()\n",
    "south_missing_data = south_df.isna().sum()\n",
    "\n",
    "# print missing values\n",
    "print(\"North Call Center Missing Data:\")\n",
    "print(north_missing_data)\n",
    "\n",
    "print(\"South Call Center Missing Data:\")\n",
    "print(south_missing_data)\n",
    "# Results missing data: North Incoming Wait Time 163, South Incoming Wait Time 188\n",
    "\n",
    "# calculate median for'Incoming Wait Time' column\n",
    "north_median_wait_time = north_df['Incoming Wait Time'].median()\n",
    "south_median_wait_time = south_df['Incoming Wait Time'].median()\n",
    "\n",
    "# fill missing values with median\n",
    "north_df['Incoming Wait Time'].fillna(north_median_wait_time, inplace=True)\n",
    "south_df['Incoming Wait Time'].fillna(south_median_wait_time, inplace=True)\n",
    "\n",
    "# check for missing values\n",
    "north_missing_after_fill = north_df['Incoming Wait Time'].isna().sum()\n",
    "south_missing_after_fill = south_df['Incoming Wait Time'].isna().sum()\n",
    "\n",
    "north_missing_after_fill, south_missing_after_fill\n",
    "\n",
    "\n"
   ]
  },
  {
   "cell_type": "markdown",
   "id": "0dc5c568-40db-4889-b82b-64610d8058d2",
   "metadata": {},
   "source": [
    "#### Record your answer below:\n",
    "\n",
    "> Your Answer:\n",
    "There are missing values in both the North and South datasets in the Incoming Wait Time column. Because Incoming Wait Time is essential to understanding customer experience, I decided to fill the missing values by using the median. I chose to use the median over the mean because it is less sensitive to extreme values. "
   ]
  },
  {
   "cell_type": "markdown",
   "id": "dc47f020",
   "metadata": {},
   "source": [
    "#### Cleaning Question 2:  In the North data set, there are two separate \"YES\" values for a sale. Why and how did you rectify the issue?"
   ]
  },
  {
   "cell_type": "code",
   "execution_count": 33,
   "id": "4e0fbad6",
   "metadata": {},
   "outputs": [
    {
     "name": "stdout",
     "output_type": "stream",
     "text": [
      "Unique values in the 'Sale' column before cleaning:\n",
      "['NO' 'YES ' 'YES']\n",
      "Unique values in the 'Sale' column after cleaning:\n",
      "['NO' 'YES']\n"
     ]
    }
   ],
   "source": [
    "# Cleaning Question 2 solution below:\n",
    "# check unique values in 'Sale' column for North\n",
    "north_sale_unique_values = north_df['Sale'].unique()\n",
    "print(\"Unique values in the 'Sale' column before cleaning:\")\n",
    "print(north_sale_unique_values)\n",
    "# Results: ['NO' 'YES ' 'YES'] - two 'Yes', one just has an unnecessary space\n",
    "\n",
    "# convert all values to uppercase and strip any spaces\n",
    "north_df['Sale'] = north_df['Sale'].str.upper().str.strip()\n",
    "\n",
    "# check \n",
    "north_sale_unique_values_cleaned = north_df['Sale'].unique()\n",
    "print(\"Unique values in the 'Sale' column after cleaning:\")\n",
    "print(north_sale_unique_values_cleaned)"
   ]
  },
  {
   "cell_type": "markdown",
   "id": "cf81b612-eb6b-45a6-ac8e-d6f4e08131a8",
   "metadata": {},
   "source": [
    "##### Record your answer by below:\n",
    "> Your Answer: It is important we only have two options in the 'Sale' column. 'YES' and 'NO'. There was a third value 'YES ' with an unnecessary space after YES. I fixed this issue by converting all values to uppercase and stripped any spaces. "
   ]
  },
  {
   "cell_type": "markdown",
   "id": "715f375a",
   "metadata": {},
   "source": [
    "#### Cleaning Question 3:  Are there duplicates in the two data sets? If there are, how did you handle them?"
   ]
  },
  {
   "cell_type": "code",
   "execution_count": 35,
   "id": "2323673a",
   "metadata": {},
   "outputs": [
    {
     "name": "stdout",
     "output_type": "stream",
     "text": [
      "Number of duplicate rows in the North dataset: 0\n",
      "Number of duplicate rows in the South dataset: 0\n"
     ]
    }
   ],
   "source": [
    "# Cleaning Question 3 solution below:\n",
    "# check for duplicates North\n",
    "north_duplicates = north_df.duplicated().sum()\n",
    "print(f\"Number of duplicate rows in the North dataset: {north_duplicates}\")\n",
    "\n",
    "# check for duplicates South\n",
    "south_duplicates = south_df.duplicated().sum()\n",
    "print(f\"Number of duplicate rows in the South dataset: {south_duplicates}\")\n",
    "\n"
   ]
  },
  {
   "cell_type": "markdown",
   "id": "4fbfe2e8-490a-48dc-b0ca-599879076c62",
   "metadata": {},
   "source": [
    "##### Record your answer below:\n",
    "> Your Answer: There are no duplicates"
   ]
  },
  {
   "cell_type": "markdown",
   "id": "8ffaa865",
   "metadata": {},
   "source": [
    "#### Cleaning Question 4:  Is any of the data in the two data sets unnecessary? If yes, how did you handle it?"
   ]
  },
  {
   "cell_type": "code",
   "execution_count": 41,
   "id": "78b45e70",
   "metadata": {},
   "outputs": [
    {
     "name": "stdout",
     "output_type": "stream",
     "text": [
      "North dataset columns: Index(['Unnamed: 0', 'Branch', 'Call Purpose', 'Time Block',\n",
      "       'Incoming or Outgoing', 'Queue', 'Rep ID', 'Sale', 'Lost Call',\n",
      "       'Abandoned', 'Busy Minutes', 'Not Ready Minutes', 'Incoming Wait Time',\n",
      "       'During Call Wait Time', 'Calls'],\n",
      "      dtype='object')\n",
      "South dataset columns: Index(['Unnamed: 0', 'Branch', 'Call Purpose', 'Time Block',\n",
      "       'Incoming or Outgoing', 'Queue', 'Rep ID', 'Sale', 'Lost Call',\n",
      "       'Abandoned', 'Busy Minutes', 'Not Ready Minutes', 'Incoming Wait Time',\n",
      "       'During Call Wait Time', 'Calls'],\n",
      "      dtype='object')\n",
      "North dataset columns after cleaning: Index(['Branch', 'Call Purpose', 'Time Block', 'Incoming or Outgoing', 'Queue',\n",
      "       'Rep ID', 'Sale', 'Lost Call', 'Abandoned', 'Busy Minutes',\n",
      "       'Not Ready Minutes', 'Incoming Wait Time', 'During Call Wait Time',\n",
      "       'Calls'],\n",
      "      dtype='object')\n",
      "South dataset columns after cleaning: Index(['Branch', 'Call Purpose', 'Time Block', 'Incoming or Outgoing', 'Queue',\n",
      "       'Rep ID', 'Sale', 'Lost Call', 'Abandoned', 'Busy Minutes',\n",
      "       'Not Ready Minutes', 'Incoming Wait Time', 'During Call Wait Time',\n",
      "       'Calls'],\n",
      "      dtype='object')\n"
     ]
    }
   ],
   "source": [
    "# Cleaning Question 4 solution below:\n",
    "# print current columns\n",
    "print('North dataset columns:', north_df.columns)\n",
    "print('South dataset columns:', south_df.columns)\n",
    "\n",
    "# remove 'unnamed' column, it just counts the records starting with 0, not necessary for our analysis\n",
    "north_df_cleaned = north_df.drop(columns=['Unnamed: 0'], errors='ignore')\n",
    "south_df_cleaned = south_df.drop(columns=['Unnamed: 0'], errors='ignore')\n",
    "\n",
    "# print to check\n",
    "print(\"North dataset columns after cleaning:\", north_df_cleaned.columns)\n",
    "print(\"South dataset columns after cleaning:\", south_df_cleaned.columns)\n"
   ]
  },
  {
   "cell_type": "markdown",
   "id": "689e76b9-64d2-45d7-883a-b8c4d822e0c8",
   "metadata": {},
   "source": [
    "##### Record your answer below:\n",
    "> Your Answer: I removed the Unnamed column as it just counts the number of enteries starting at 0. I don't find that necessary for this analysis."
   ]
  },
  {
   "cell_type": "markdown",
   "id": "73342a9a",
   "metadata": {},
   "source": [
    "## Task 3: Data Manipulation\n",
    "Before you begin answering any questions, combine the two datasets together to create a third dataframe called df. You can use this third dataframe to compare the two call centers to company-wide trends.\n",
    "* Add additional code blocks as needed to show how you came to your conclusions. Add comments in your code blocks to help others understand your thinking. Record your answer below."
   ]
  },
  {
   "cell_type": "code",
   "execution_count": 83,
   "id": "e9705c34",
   "metadata": {},
   "outputs": [
    {
     "name": "stdout",
     "output_type": "stream",
     "text": [
      "combined dataframe shape: (559, 14)\n",
      "combined dataframe preview:\n",
      "  Branch     Call Purpose Time Block Incoming or Outgoing Queue Rep ID Sale  \\\n",
      "0  North        Complaint    9:00 AM             Incoming     B  Brent   NO   \n",
      "1  North    Sales Support   11:00 AM             Incoming     A    Cam   NO   \n",
      "2  North    Sales Support   11:00 AM             Incoming     B   Todd   NO   \n",
      "3  North    Sales Support    4:00 PM             Incoming     B  Brent   NO   \n",
      "4  North  Product Support   12:00 PM             Incoming     B  Brent   NO   \n",
      "\n",
      "   Lost Call  Abandoned  Busy Minutes  Not Ready Minutes  Incoming Wait Time  \\\n",
      "0          0          1             9                  2                 1.0   \n",
      "1          0          0            11                  1                 1.0   \n",
      "2          0          0             9                  3                 1.0   \n",
      "3          0          0            11                  2                 1.0   \n",
      "4          0          0             8                  2                 1.0   \n",
      "\n",
      "   During Call Wait Time  Calls  \n",
      "0                      4      1  \n",
      "1                      3      1  \n",
      "2                      3      1  \n",
      "3                      4      1  \n",
      "4                      4      1  \n"
     ]
    }
   ],
   "source": [
    "# Create dataframe for the entire company named df\n",
    "df = pd.concat([north_df_cleaned, south_df_cleaned], ignore_index=True)\n",
    "\n",
    "# print check\n",
    "print('combined dataframe shape:', df.shape)\n",
    "print('combined dataframe preview:')\n",
    "print (df.head())\n"
   ]
  },
  {
   "cell_type": "markdown",
   "id": "7e87dfd1",
   "metadata": {},
   "source": [
    "#### Manipulation Question 1:  Group by Rep ID and sum the resulting structure. Sort by calls to determine which rep in each branch has the highest number of calls."
   ]
  },
  {
   "cell_type": "code",
   "execution_count": 48,
   "id": "3953f09a",
   "metadata": {},
   "outputs": [
    {
     "name": "stdout",
     "output_type": "stream",
     "text": [
      "Top representatives in each branch by number of calls:\n",
      "               Calls\n",
      "Rep ID Branch       \n",
      "Brent  North      37\n",
      "Eric   South      35\n"
     ]
    }
   ],
   "source": [
    "# Manipulation Question solution below:\n",
    "# groupby rep id and sum\n",
    "rep_grouped = df.groupby(['Rep ID', 'Branch']).sum()\n",
    "\n",
    "# sort num of calls to find rep with highest num calls in each branch\n",
    "rep_sorted = rep_grouped.sort_values(by='Calls', ascending=False)\n",
    "\n",
    "# show top rep in each branch\n",
    "top_reps_by_branch = rep_sorted.groupby('Branch').head(1)\n",
    "\n",
    "# print results\n",
    "print(\"Top representatives in each branch by number of calls:\")\n",
    "print(top_reps_by_branch[['Calls']])\n"
   ]
  },
  {
   "cell_type": "markdown",
   "id": "7c29838c-1402-4e4b-94c9-050515d8dd18",
   "metadata": {},
   "source": [
    "##### Record your answer below\n",
    "Rep with the hightest number of calls and their total calls:\n",
    "- North Branch = Brent 37\n",
    "- South Branch = Eric 35"
   ]
  },
  {
   "cell_type": "markdown",
   "id": "809293b9",
   "metadata": {},
   "source": [
    "#### Manipulation Question 2:  The average call abandonment rate is a KPI when it comes to determining call center efficiency. As you may recall, abandoned calls are calls where the customer hangs up due to long call times. What is the average call abandonment rate for each branch and the whole company? Do any of these fall out of the optimal range of 2-5%?"
   ]
  },
  {
   "cell_type": "code",
   "execution_count": 51,
   "id": "3dff7534",
   "metadata": {},
   "outputs": [
    {
     "data": {
      "text/plain": [
       "(        Abandoned  Calls  Abandonment Rate (%)\n",
       " Branch                                        \n",
       " North           7    245              2.857143\n",
       " South           4    314              1.273885,\n",
       " np.float64(1.9677996422182469))"
      ]
     },
     "execution_count": 51,
     "metadata": {},
     "output_type": "execute_result"
    }
   ],
   "source": [
    "# Manipulation Question 2 solution below:\n",
    "# calulate abandoned calls\n",
    "branch_abandonment = df.groupby('Branch').sum()[['Abandoned', 'Calls']]\n",
    "\n",
    "# calulate abandonment rate for each branch\n",
    "branch_abandonment['Abandonment Rate (%)'] = (branch_abandonment['Abandoned'] / branch_abandonment['Calls']) * 100\n",
    "\n",
    "# calulate company wide\n",
    "company_abandonment =df[['Abandoned', 'Calls']].sum()\n",
    "company_abandonment_rate = (company_abandonment['Abandoned'] / company_abandonment['Calls']) * 100\n",
    "branch_abandonment, company_abandonment_rate\n"
   ]
  },
  {
   "cell_type": "markdown",
   "id": "c284596f-218f-4291-81b6-718ea5671feb",
   "metadata": {},
   "source": [
    "##### Record your answer below:\n",
    "Average Call Abandonment Rates (round to the nearest hundredth):\n",
    "- North Branch = 2.86%\n",
    "- South Branch = 1.27%\n",
    "- Company Wide = 1.97%\n",
    "- Do any of these fall out of the optimal range of 2-5%?\n",
    "No"
   ]
  },
  {
   "cell_type": "markdown",
   "id": "598bb1bf",
   "metadata": {},
   "source": [
    "#### Manipulation Question 3:  Service level is another KPI when it comes to measuring call center efficiency. Service level is the percentage of calls answered within a specific number of seconds. In the case of your employer, their ideal time frame is 2 seconds. What is the percentage of calls answered within 2 seconds for each branch and the entire company?"
   ]
  },
  {
   "cell_type": "code",
   "execution_count": 53,
   "id": "2fc8f669",
   "metadata": {},
   "outputs": [
    {
     "name": "stdout",
     "output_type": "stream",
     "text": [
      "North Branch = 40.24% and 33 calls\n",
      "South Branch = 38.10% and 48 calls\n",
      "Company Wide = 38.94% and 81 calls\n"
     ]
    }
   ],
   "source": [
    "# Manipulation Question 3 solution below:\n",
    "# filter incoming calls only\n",
    "incoming_calls_df = df[df['Incoming or Outgoing'] == 'Incoming']\n",
    "\n",
    "# filter calls answered within 2 seconds\n",
    "calls_within_2_seconds = incoming_calls_df[incoming_calls_df['Incoming Wait Time'] <= 2]\n",
    "\n",
    "# calculate total incoming calls per branch\n",
    "total_incoming_calls_by_branch = incoming_calls_df.groupby('Branch')['Calls'].sum()\n",
    "\n",
    "# calculate calls answered within 2 seconds per branch\n",
    "calls_within_2_seconds_by_branch = calls_within_2_seconds.groupby('Branch')['Calls'].sum()\n",
    "\n",
    "# calculate service level for each branch and also display the number of calls\n",
    "north_service_level_percentage = (calls_within_2_seconds_by_branch['North'] / total_incoming_calls_by_branch['North']) * 100\n",
    "south_service_level_percentage = (calls_within_2_seconds_by_branch['South'] / total_incoming_calls_by_branch['South']) * 100\n",
    "\n",
    "# calculate company-wide service level\n",
    "company_service_level_percentage = (calls_within_2_seconds_by_branch.sum() / total_incoming_calls_by_branch.sum()) * 100\n",
    "\n",
    "# print results with number of calls\n",
    "print(f\"North Branch = {north_service_level_percentage:.2f}% and {calls_within_2_seconds_by_branch['North']} calls\")\n",
    "print(f\"South Branch = {south_service_level_percentage:.2f}% and {calls_within_2_seconds_by_branch['South']} calls\")\n",
    "print(f\"Company Wide = {company_service_level_percentage:.2f}% and {calls_within_2_seconds_by_branch.sum()} calls\")\n",
    "\n"
   ]
  },
  {
   "cell_type": "markdown",
   "id": "e3a4c9d9-4e11-4e1f-859a-d2c919f7d9ce",
   "metadata": {},
   "source": [
    "##### Record your answer below:\n",
    "Percentage of calls answered within 2 seconds, include # of calls:\n",
    "- North Branch = 40.24% and 33 calls\n",
    "- South Branch = 38.10% and 48\n",
    "- Company Wide = 38.94% and 81"
   ]
  },
  {
   "cell_type": "markdown",
   "id": "7e19e705",
   "metadata": {},
   "source": [
    "#### Manipulation Question 4: For each branch and the entire company, what is the average speed of answer?"
   ]
  },
  {
   "cell_type": "code",
   "execution_count": 54,
   "id": "72a653ed",
   "metadata": {},
   "outputs": [
    {
     "data": {
      "text/plain": [
       "(Branch\n",
       " North    3.04878\n",
       " South    3.00000\n",
       " Name: Incoming Wait Time, dtype: float64,\n",
       " np.float64(3.019230769230769))"
      ]
     },
     "execution_count": 54,
     "metadata": {},
     "output_type": "execute_result"
    }
   ],
   "source": [
    "# Manipulation Question 4 solution below:\n",
    "# incoming calls\n",
    "incoming_calls_df = df[df['Incoming or Outgoing'] == 'Incoming']\n",
    "\n",
    "# avg Incoming Wait Time for each branch\n",
    "average_speed_of_answer_by_branch = incoming_calls_df.groupby('Branch')['Incoming Wait Time'].mean()\n",
    "\n",
    "# company-wide avg Incoming Wait Time\n",
    "company_average_speed_of_answer = incoming_calls_df['Incoming Wait Time'].mean()\n",
    "\n",
    "# print\n",
    "average_speed_of_answer_by_branch, company_average_speed_of_answer"
   ]
  },
  {
   "cell_type": "markdown",
   "id": "fb04c65b-442b-48e1-b22c-b2af8b835ffd",
   "metadata": {},
   "source": [
    "##### Record your answer by below:\n",
    "Average speed of answer (rounded to nearest hundredth):\n",
    "- North Branch in seconds = 3.05 seconds\n",
    "- South Branch in seconds = 3.00 seconds\n",
    "- Company Wide in seconds = 3.02 seconds"
   ]
  },
  {
   "cell_type": "markdown",
   "id": "d5f50a40",
   "metadata": {},
   "source": [
    "## Task 4: Visualization\n",
    "\n",
    "Create a visualization for each of the following questions. Some of the code to handle aggregating and storing data may be written for you. For each visualization, you choose the chart style that you feel suits the situation best. Make note of the chart style you chose and why. \n",
    "\n",
    "*NOTE Some questions you may decide to use more than one chart and or chart style."
   ]
  },
  {
   "cell_type": "markdown",
   "id": "66ccf83c",
   "metadata": {},
   "source": [
    "#### Visualization 1:  What is the average abandonment rate per queue?"
   ]
  },
  {
   "cell_type": "code",
   "execution_count": 87,
   "id": "c971d779",
   "metadata": {},
   "outputs": [
    {
     "name": "stderr",
     "output_type": "stream",
     "text": [
      "C:\\Users\\jorda\\AppData\\Local\\Temp\\ipykernel_20816\\186821059.py:10: FutureWarning: Series.__getitem__ treating keys as positions is deprecated. In a future version, integer keys will always be treated as labels (consistent with DataFrame behavior). To access a value by position, use `ser.iloc[pos]`\n",
      "  abandonment_rates[queues[i]] = queue_dict[\"Abandoned\"][i] / queue_dict[\"Calls\"][i]\n"
     ]
    },
    {
     "data": {
      "text/plain": [
       "<function matplotlib.pyplot.show(close=None, block=None)>"
      ]
     },
     "execution_count": 87,
     "metadata": {},
     "output_type": "execute_result"
    },
    {
     "data": {
      "image/png": "[encoded data removed]",
      "text/plain": [
       "<Figure size 800x500 with 1 Axes>"
      ]
     },
     "metadata": {},
     "output_type": "display_data"
    }
   ],
   "source": [
    "# Create visualization 1 here\n",
    "# Import any additional libraries needed with alias\n",
    "import matplotlib.pyplot as plt\n",
    "\n",
    "# The dictionary abandonment_rates has the data you need.\n",
    "abandonment_rates = {}\n",
    "queues = [\"A\", \"B\", \"C\", \"D\"]\n",
    "queue_dict = df.groupby(\"Queue\").agg(\"sum\")\n",
    "for i in range(4):\n",
    "    abandonment_rates[queues[i]] = queue_dict[\"Abandoned\"][i] / queue_dict[\"Calls\"][i] \n",
    "\n",
    "#Your code below:\n",
    "# \n",
    "queues = list(abandonment_rates.keys())\n",
    "rates = list(abandonment_rates.values())\n",
    "# bar chart\n",
    "plt.figure(figsize=(8,5))\n",
    "plt.bar(queues, rates, color='skyblue')\n",
    "\n",
    "# labels and title\n",
    "plt.xlabel('Queue')\n",
    "plt.ylabel('Abandonment Rate')\n",
    "plt.title('Avg Abandonment Rate per Queue')\n",
    "\n",
    "# \n",
    "plt.show\n",
    "\n"
   ]
  },
  {
   "cell_type": "markdown",
   "id": "00a821e7-b296-4950-8889-dacf36ef37fb",
   "metadata": {},
   "source": [
    "##### Record your answer below:\n",
    "\n",
    "> Chart style you chose and why: I chose a bar chart because it is simple and effective when it comes to comparing categories with numerical values. (queues, abandonment rates). We can visually see which queue has the highest and lowest abaondoment rate."
   ]
  },
  {
   "cell_type": "markdown",
   "id": "4a9fc77f",
   "metadata": {},
   "source": [
    "#### Visualization 2: What is the service level percentage and average speed of answer for each rep in the North Branch?"
   ]
  },
  {
   "cell_type": "code",
   "execution_count": 73,
   "id": "61f65a7f",
   "metadata": {},
   "outputs": [
    {
     "data": {
      "image/png": "[encoded data removed]",
      "text/plain": [
       "<Figure size 800x500 with 1 Axes>"
      ]
     },
     "metadata": {},
     "output_type": "display_data"
    }
   ],
   "source": [
    "# Create visualization 2 here\n",
    "# north_plt contains the data you need for the average speed of answer of each rep\n",
    "\n",
    "north = df[df['Branch'] == 'North']\n",
    "north_plt = north.groupby(\"Rep ID\")[\"Incoming Wait Time\"].mean().to_frame().reset_index()\n",
    "\n",
    "# Finding each Rep's Personal Service Level Percentage.  Basically, Calls within 2 secs / total calls\n",
    "\n",
    "# Table 1: Total Incoming calls less than 2 seconds grouped by Rep\n",
    "quick_calls = north[north[\"Incoming Wait Time\"] <= 2.0]\n",
    "quick_reps = quick_calls[[\"Rep ID\", \"Calls\"]]\n",
    "quick_stats = quick_reps.groupby([\"Rep ID\"]).sum()  # Final Table\n",
    "\n",
    "\n",
    "# Table 2: Total Incoming Calls Only grouped by Rep\n",
    "total_calls_in = north[north[\"Incoming or Outgoing\"] == \"Incoming\"]\n",
    "rep_calls = total_calls_in[[\"Rep ID\", \"Calls\"]]     \n",
    "total_stats = rep_calls.groupby([\"Rep ID\"]).sum() # Final Table  \n",
    "\n",
    "#  Table 3: Service Level Percentage created via merge\n",
    "service_level = pd.merge(quick_stats, total_stats, on=\"Rep ID\")\n",
    "\n",
    "# Create Percentage Column in Table 3\n",
    "service_level[\"Service Level %\"] = service_level[\"Calls_x\"]/service_level[\"Calls_y\"] * 100\n",
    "\n",
    "\n",
    "#Your Code Here:\n",
    "# define the 'north' dataframe\n",
    "north = df[df['Branch'] == 'North']\n",
    "\n",
    "# merge service level w/ avg speed of answer\n",
    "combined_stats = pd.merge(service_level, north_plt, on=\"Rep ID\")\n",
    "\n",
    "# scatter plot\n",
    "x = combined_stats['Service Level %']\n",
    "y = combined_stats['Incoming Wait Time']\n",
    "\n",
    "plt.figure(figsize=(8, 5))\n",
    "plt.scatter(x, y, color='green')\n",
    "plt.xlabel('Service Level %')\n",
    "plt.ylabel('Average Speed of Answer (seconds)')\n",
    "plt.title('Service Level % vs Average Speed of Answer for each Rep (North Branch)')\n",
    "\n",
    "# label points w/ Rep ID\n",
    "for i, rep in enumerate(combined_stats['Rep ID']):\n",
    "    plt.annotate(rep, (x[i], y[i]), textcoords='offset points', xytext=(0, 5), ha='center')\n",
    "\n",
    "plt.show()"
   ]
  },
  {
   "cell_type": "markdown",
   "id": "4d4cad4d-f9fb-4927-8a45-4b5cd17edd3a",
   "metadata": {},
   "source": [
    "##### Record your answer below:\n",
    "\n",
    "> Chart style you chose and why: I chose the scatterplot because I like the way the data is presented. You can visually see the correlation of average speed of calls and service level. Brent has the highest service level, and the fasted spped of answer. He has a higher service level because he provides more service than the other reps."
   ]
  },
  {
   "cell_type": "markdown",
   "id": "f965e41a",
   "metadata": {},
   "source": [
    "#### Visualization 3: For each type of call purpose, how many calls are outgoing vs. incoming?"
   ]
  },
  {
   "cell_type": "code",
   "execution_count": 79,
   "id": "44096730",
   "metadata": {},
   "outputs": [
    {
     "name": "stdout",
     "output_type": "stream",
     "text": [
      "Call Purpose     Incoming or Outgoing\n",
      "Complaint        Incoming                 51\n",
      "Product Support  Outgoing                228\n",
      "                 Incoming                 82\n",
      "Sales Support    Outgoing                123\n",
      "                 Incoming                 75\n",
      "Name: count, dtype: int64\n"
     ]
    },
    {
     "data": {
      "image/png": "[encoded data removed]",
      "text/plain": [
       "<Figure size 1000x600 with 1 Axes>"
      ]
     },
     "metadata": {},
     "output_type": "display_data"
    }
   ],
   "source": [
    "# Create visualization 3 here:\n",
    "# The three dictionaries, complaints, sales_support, and product_support, have the information you need\n",
    "\n",
    "purpose_group = df.groupby(\"Call Purpose\")\n",
    "call_purpose = [\"Complaint\", \"Product Support\", \"Sales Support\"]\n",
    "purpose_counts = purpose_group[\"Incoming or Outgoing\"].value_counts()\n",
    "print(purpose_counts)\n",
    "\n",
    "complaints = purpose_counts[\"Complaint\"].to_dict()\n",
    "sales_support = purpose_counts[\"Sales Support\"].to_dict()\n",
    "product_support = purpose_counts[\"Product Support\"].to_dict()\n",
    "\n",
    "#Your Code Here:\n",
    "# Create visualization 3 here using a grouped bar chart\n",
    "import matplotlib.pyplot as plt\n",
    "import numpy as np\n",
    "\n",
    "# incoming and outgoing call data from the dictionaries\n",
    "categories = ['Complaint', 'Sales Support', 'Product Support']\n",
    "incoming_calls = [\n",
    "    complaints.get('Incoming', 0),\n",
    "    sales_support.get('Incoming', 0),\n",
    "    product_support.get('Incoming', 0)\n",
    "]\n",
    "outgoing_calls = [\n",
    "    complaints.get('Outgoing', 0),\n",
    "    sales_support.get('Outgoing', 0),\n",
    "    product_support.get('Outgoing', 0)\n",
    "]\n",
    "\n",
    "# grouped bar chart \n",
    "x = np.arange(len(categories))  # label locations\n",
    "width = 0.35  # the width of the bars\n",
    "\n",
    "fig, ax = plt.subplots(figsize=(10, 6))\n",
    "\n",
    "# incoming calls\n",
    "rects1 = ax.bar(x - width/2, incoming_calls, width, label='Incoming', color='pink')\n",
    "\n",
    "# outgoing calls\n",
    "rects2 = ax.bar(x + width/2, outgoing_calls, width, label='Outgoing', color='green')\n",
    "\n",
    "ax.set_xlabel('Call Purpose')\n",
    "ax.set_ylabel('Number of Calls')\n",
    "ax.set_title('Number of Incoming vs Outgoing Calls for Each Call Purpose')\n",
    "ax.set_xticks(x)\n",
    "ax.set_xticklabels(categories)\n",
    "ax.legend()\n",
    "\n",
    "plt.show()\n"
   ]
  },
  {
   "cell_type": "markdown",
   "id": "9198bbe4-44ef-4e21-bd40-6ace8e9f7694",
   "metadata": {},
   "source": [
    "##### Record your answer below:\n",
    "\n",
    "> Chart style you chose and why: I chose a grouped barchart so that we can directly see the differnce in incoming vs outgoing calls for each call purpose. "
   ]
  },
  {
   "cell_type": "markdown",
   "id": "ea7ed568",
   "metadata": {},
   "source": [
    "## Task 5: Summarize Your Work\n",
    "\n",
    "With what you know now about the two call centers and the entire company, answer the following questions. Note that while this is subjective, you should include relevant data to back up your opinion.\n"
   ]
  },
  {
   "cell_type": "markdown",
   "id": "d2fc3d13",
   "metadata": {},
   "source": [
    "#### Summary Question 1:  Using KPIs such as average abandonment rate, service level and average speed of answer, in your opinion, which one of the two branches is operating more efficiently? Why?\n",
    "\n",
    "##### Record your answer below:\n",
    "> Your Answer: I think the north branch is operating more efficiently. The highest. North branch reps answer 40.24% of their calls in under 2 seconds, the south branch trails at 38.10%. The north branch also has the rep with the highest service level and highest number of calls.\n",
    "\n"
   ]
  },
  {
   "cell_type": "markdown",
   "id": "489f28d6",
   "metadata": {},
   "source": [
    "#### Summary Question 2: Based on the number of reps in each branch and how quickly the reps are working, in your opinion, which branch would benefit from the extra help?\n",
    "\n",
    "##### Record your answer below:\n",
    "> Your Answer: Even though i feel as if the North branch is operating more efficiently, i feel they would most benefit from the extra help. They have 2 less people than the South branch and their abandoment rate is the worst compare the the south and the company-wide abandonment rates. Even if the south branch has more busy minutes, and the during wait time is longer than at the north branch, those calls all eventually reach a rep. Abandonment rate are the calls that never reach a rep. I think it's the most important thing to correct for the call center. \n"
   ]
  },
  {
   "cell_type": "markdown",
   "id": "0b10a8c3",
   "metadata": {},
   "source": [
    "#### Summary Question 3: Now that you have explored the datasets, is there any data or information that you wish you had in this analysis?\n",
    "\n",
    "##### Record your answer below:\n",
    "> Your Answer: \n"
   ]
  },
  {
   "cell_type": "markdown",
   "id": "ce16f43d",
   "metadata": {},
   "source": [
    "## Bonus Mission\n",
    "Create a visualization that answers this question: For each call purpose, how many calls (incoming and outgoing) take place in each time block?\n",
    "##### Record your answer below:\n",
    "\n",
    "> Chart style you chose and why: "
   ]
  },
  {
   "cell_type": "code",
   "execution_count": 4,
   "id": "71b04f32",
   "metadata": {},
   "outputs": [
    {
     "ename": "NameError",
     "evalue": "name 'df' is not defined",
     "output_type": "error",
     "traceback": [
      "\u001b[0;31m---------------------------------------------------------------------------\u001b[0m",
      "\u001b[0;31mNameError\u001b[0m                                 Traceback (most recent call last)",
      "\u001b[0;32m/tmp/ipykernel_10106/3163764672.py\u001b[0m in \u001b[0;36m<module>\u001b[0;34m\u001b[0m\n\u001b[1;32m      1\u001b[0m \u001b[0;31m# Create your Bonus Mission visualization here!\u001b[0m\u001b[0;34m\u001b[0m\u001b[0;34m\u001b[0m\u001b[0m\n\u001b[0;32m----> 2\u001b[0;31m \u001b[0mcall_times\u001b[0m \u001b[0;34m=\u001b[0m \u001b[0mdf\u001b[0m\u001b[0;34m[\u001b[0m\u001b[0;34m[\u001b[0m\u001b[0;34m\"Time Block\"\u001b[0m\u001b[0;34m,\u001b[0m \u001b[0;34m\"Call Purpose\"\u001b[0m\u001b[0;34m,\u001b[0m \u001b[0;34m\"Incoming or Outgoing\"\u001b[0m\u001b[0;34m,\u001b[0m \u001b[0;34m\"Calls\"\u001b[0m\u001b[0;34m]\u001b[0m\u001b[0;34m]\u001b[0m\u001b[0;34m\u001b[0m\u001b[0;34m\u001b[0m\u001b[0m\n\u001b[0m\u001b[1;32m      3\u001b[0m \u001b[0;34m\u001b[0m\u001b[0m\n\u001b[1;32m      4\u001b[0m \u001b[0;31m# Use groupby to plot based on time blocks:\u001b[0m\u001b[0;34m\u001b[0m\u001b[0;34m\u001b[0m\u001b[0m\n\u001b[1;32m      5\u001b[0m \u001b[0;34m\u001b[0m\u001b[0m\n",
      "\u001b[0;31mNameError\u001b[0m: name 'df' is not defined"
     ]
    }
   ],
   "source": [
    "# Create your Bonus Mission visualization here!\n",
    "call_times = df[[\"Time Block\", \"Call Purpose\", \"Incoming or Outgoing\", \"Calls\"]]\n",
    "\n",
    "# Use groupby to plot based on time blocks:\n",
    "\n",
    "# Use groupby and get_group to select which call purpose to plot:"
   ]
  }
 ],
 "metadata": {
  "kernelspec": {
   "display_name": "Python 3 (ipykernel)",
   "language": "python",
   "name": "python3"
  },
  "language_info": {
   "codemirror_mode": {
    "name": "ipython",
    "version": 3
   },
   "file_extension": ".py",
   "mimetype": "text/x-python",
   "name": "python",
   "nbconvert_exporter": "python",
   "pygments_lexer": "ipython3",
   "version": "3.12.6"
  }
 },
 "nbformat": 4,
 "nbformat_minor": 5
}
